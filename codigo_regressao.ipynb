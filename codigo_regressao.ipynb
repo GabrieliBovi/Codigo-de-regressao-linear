{
 "cells": [
  {
   "cell_type": "markdown",
   "id": "47af2db6",
   "metadata": {},
   "source": [
    "# Analise dos dados exclusivos de proteomica por regressao linear"
   ]
  },
  {
   "cell_type": "markdown",
   "id": "ab0f4797",
   "metadata": {},
   "source": [
    "Importar pacotes "
   ]
  },
  {
   "cell_type": "code",
   "execution_count": 1,
   "id": "33002718",
   "metadata": {},
   "outputs": [],
   "source": [
    "import pandas as pd\n",
    "import statsmodels.api as sm\n",
    "from sklearn.linear_model import LinearRegression\n",
    "import statsmodels.api as sm"
   ]
  },
  {
   "cell_type": "markdown",
   "id": "347c2c4f",
   "metadata": {},
   "source": [
    "## Dados do MO"
   ]
  },
  {
   "cell_type": "code",
   "execution_count": null,
   "id": "97ff9284",
   "metadata": {},
   "outputs": [],
   "source": [
    "# Carregar os dados do Excel para um DataFrame\n",
    "dados_excel = pd.read_excel('regressao_linear.xlsx', sheet_name = 'MO', index_col=0) \n",
    "# Supondo que a primeira coluna seja o índice dos genes\n",
    "print (dados_excel)"
   ]
  },
  {
   "cell_type": "code",
   "execution_count": null,
   "id": "750f52c0",
   "metadata": {},
   "outputs": [],
   "source": [
    "# Loop para calcular a regressão linear e obter mais parâmetros\n",
    "resultados_regressao = []\n",
    "for i, gene1 in enumerate(dados_excel.index):\n",
    "    for j, gene2 in enumerate(dados_excel.index[i+1:], start=i+1):\n",
    "        x = dados_excel.loc[gene1]\n",
    "        y = dados_excel.loc[gene2]\n",
    "\n",
    "        # Adicionando uma constante para o termo linear\n",
    "        X = sm.add_constant(x)\n",
    "\n",
    "        # Ajustando o modelo de regressão linear\n",
    "        modelo = sm.OLS(y, X).fit()\n",
    "\n",
    "        # Coletando os resultados\n",
    "        coef_angular = modelo.params[1]  # Coeficiente Angular\n",
    "        coef_linear = modelo.params[0]   # Coeficiente Linear\n",
    "        r2 = modelo.rsquared             # R^2\n",
    "        pearson_corr = x.corr(y)         # Coeficiente de Correlação de Pearson\n",
    "        f_statistic = modelo.fvalue      # F-statistic\n",
    "        p_value = modelo.f_pvalue        # p-value do F-test\n",
    "        coef_hypothesis_test = modelo.pvalues[1]  # Teste de Hipóteses dos Coeficientes\n",
    "        std_error = modelo.bse[1]        # Erro Padrão da Estimativa\n",
    "\n",
    "        resultados_regressao.append({\n",
    "            'gene_x': gene1,\n",
    "            'gene_y': gene2,\n",
    "            'coef_angular': coef_angular,\n",
    "            'coef_linear': coef_linear,\n",
    "            'r2': r2,\n",
    "            'pearson_corr': pearson_corr,\n",
    "            'f_statistic': f_statistic,\n",
    "            'p_value': p_value,\n",
    "            'coef_hypothesis_test': coef_hypothesis_test,\n",
    "            'std_error': std_error\n",
    "        })\n"
   ]
  },
  {
   "cell_type": "code",
   "execution_count": null,
   "id": "ac109816",
   "metadata": {},
   "outputs": [],
   "source": [
    "# Criar um DataFrame com os resultados\n",
    "df_resultados = pd.DataFrame(resultados_regressao)\n",
    "\n",
    "# Definir o número máximo de linhas por aba\n",
    "max_linhas_por_aba = 600000\n",
    "\n",
    "# Dividir o DataFrame em partes menores\n",
    "partes = [df_resultados[i:i+max_linhas_por_aba] for i in range(0, df_resultados.shape[0], max_linhas_por_aba)]\n",
    "\n",
    "# Criar um escritor Excel\n",
    "writer = pd.ExcelWriter('resultados_regressao_completoMO.xlsx', engine='xlsxwriter')\n",
    "\n",
    "# Salvar cada parte em uma aba (sheet) diferente\n",
    "for i, parte in enumerate(partes):\n",
    "    parte.to_excel(writer, sheet_name=f'Parte_{i+1}', index=False)\n",
    "\n",
    "# Fechar o escritor Excel\n",
    "writer.save()"
   ]
  },
  {
   "cell_type": "markdown",
   "id": "afaf651a",
   "metadata": {},
   "source": [
    "## Dados do CTL"
   ]
  },
  {
   "cell_type": "code",
   "execution_count": 14,
   "id": "d0a101a2",
   "metadata": {},
   "outputs": [],
   "source": [
    "# Carregar os dados do Excel para um DataFrame\n",
    "dados2_excel = pd.read_excel('regressao_linear.xlsx', sheet_name = 'CTL_2', index_col=0) # Supondo que a primeira coluna seja o índice dos genes"
   ]
  },
  {
   "cell_type": "code",
   "execution_count": 15,
   "id": "0142497a",
   "metadata": {
    "collapsed": true
   },
   "outputs": [
    {
     "data": {
      "text/plain": [
       "LFQ intensity SC-2    int64\n",
       "LFQ intensity SC-3    int64\n",
       "LFQ intensity SC-4    int64\n",
       "LFQ intensity SC-5    int64\n",
       "dtype: object"
      ]
     },
     "execution_count": 15,
     "metadata": {},
     "output_type": "execute_result"
    }
   ],
   "source": [
    "dados2_excel.dtypes"
   ]
  },
  {
   "cell_type": "code",
   "execution_count": 16,
   "id": "bd00bd79",
   "metadata": {},
   "outputs": [],
   "source": [
    "# Converter variáveis categóricas em variáveis dummy, se necessário\n",
    "#dados2_excel = pd.get_dummies(dados2_excel)\n",
    "\n",
    "# Loop para calcular a regressão linear e obter mais parâmetros\n",
    "resultados2_regressao = []\n",
    "for i, gene1 in enumerate(dados2_excel.index):\n",
    "    for j, gene2 in enumerate(dados2_excel.index[i+1:], start=i+1):\n",
    "        x = dados2_excel.loc[gene1]\n",
    "        y = dados2_excel.loc[gene2]\n",
    "\n",
    "        # Ajustando o modelo de regressão linear\n",
    "        modelo = sm.OLS(y, sm.add_constant(x)).fit()\n",
    "\n",
    "        # Coletando os resultados\n",
    "        coef_angular = modelo.params[1]  # Coeficiente Angular\n",
    "        coef_linear = modelo.params[0]   # Coeficiente Linear\n",
    "        r2 = modelo.rsquared             # R^2\n",
    "        pearson_corr = x.corr(y)         # Coeficiente de Correlação de Pearson\n",
    "        f_statistic = modelo.fvalue      # F-statistic\n",
    "        p_value = modelo.f_pvalue        # p-value do F-test\n",
    "        coef_hypothesis_test = modelo.pvalues[1]  # Teste de Hipóteses dos Coeficientes\n",
    "        std_error = modelo.bse[1]        # Erro Padrão da Estimativa\n",
    "\n",
    "        resultados2_regressao.append({\n",
    "            'gene_x': gene1,\n",
    "            'gene_y': gene2,\n",
    "            'coef_angular': coef_angular,\n",
    "            'coef_linear': coef_linear,\n",
    "            'r2': r2,\n",
    "            'pearson_corr': pearson_corr,\n",
    "            'f_statistic': f_statistic,\n",
    "            'p_value': p_value,\n",
    "            'coef_hypothesis_test': coef_hypothesis_test,\n",
    "            'std_error': std_error\n",
    "        })"
   ]
  },
  {
   "cell_type": "code",
   "execution_count": 17,
   "id": "05f7d96b",
   "metadata": {},
   "outputs": [],
   "source": [
    "# Criar um DataFrame com os resultados\n",
    "df_resultados2 = pd.DataFrame(resultados2_regressao)\n",
    "\n",
    "# Definir o número máximo de linhas por aba\n",
    "max_linhas_por_aba = 900000\n",
    "\n",
    "# Dividir o DataFrame em partes menores\n",
    "partes = [df_resultados2[i:i+max_linhas_por_aba] for i in range(0, df_resultados2.shape[0], max_linhas_por_aba)]\n",
    "\n",
    "# Criar um escritor Excel\n",
    "writer = pd.ExcelWriter('resultados_regressao_completoCTL_2.xlsx', engine='xlsxwriter')\n",
    "\n",
    "# Salvar cada parte em uma aba (sheet) diferente\n",
    "for i, parte in enumerate(partes):\n",
    "    parte.to_excel(writer, sheet_name=f'Parte_{i+1}', index=False)\n",
    "\n",
    "# Fechar o escritor Excel\n",
    "writer.save()"
   ]
  },
  {
   "cell_type": "code",
   "execution_count": null,
   "id": "2aaee9d0",
   "metadata": {},
   "outputs": [],
   "source": []
  },
  {
   "cell_type": "markdown",
   "id": "e80f551b",
   "metadata": {},
   "source": [
    "## Filtrar dados - MO\n",
    "pearson = ±0,4 , ±0,5 e ±0,6\n"
   ]
  },
  {
   "cell_type": "code",
   "execution_count": null,
   "id": "55362d8d",
   "metadata": {},
   "outputs": [],
   "source": [
    "# Carregar os dados do arquivo Excel em um DataFrame\n",
    "df1_resultados = pd.read_excel('resultados_regressao_completoMO.xlsx', sheet_name=None)\n",
    "\n",
    "# Definir os valores de correlação desejados\n",
    "valores_correlacao = [0.4, 0.5, 0.6]\n",
    "\n",
    "# Criar um escritor Excel\n",
    "writer = pd.ExcelWriter('resultados_filtradosMO2.xlsx', engine='xlsxwriter')\n",
    "\n",
    "# Loop para processar cada valor de correlação desejado\n",
    "for valor_correlacao in valores_correlacao:\n",
    "    # Substituir as vírgulas por pontos na coluna 'pearson_corr' para garantir que Python interprete corretamente os valores numéricos\n",
    "    for sheet_name, df in df1_resultados.items():\n",
    "        df['pearson_corr'] = df['pearson_corr'].astype(str).str.replace(',', '.').astype(float)\n",
    "\n",
    "        # Filtrar os resultados com base na coluna 'pearson_corr'\n",
    "        resultados_filtrados = df[(df['pearson_corr'] >= valor_correlacao) | (df['pearson_corr'] <= -valor_correlacao)]\n",
    "\n",
    "        # Salvar os resultados filtrados em uma aba (sheet) diferente\n",
    "        resultados_filtrados.to_excel(writer, sheet_name=f'{sheet_name}_filtrados_{str(valor_correlacao).replace(\".\", \"_\")}', index=False)\n",
    "\n",
    "# Fechar o escritor Excel\n",
    "writer.save()"
   ]
  },
  {
   "cell_type": "markdown",
   "id": "c7059312",
   "metadata": {},
   "source": [
    "## Filtrar dados - CTL\n",
    "pearson = ±0,4 , ±0,5 e ±0,6"
   ]
  },
  {
   "cell_type": "code",
   "execution_count": null,
   "id": "ed323bf7",
   "metadata": {},
   "outputs": [],
   "source": [
    "# Carregar os dados do arquivo Excel em um DataFrame\n",
    "df1_resultados = pd.read_excel('resultados_regressao_completoCTL.xlsx', sheet_name=None)\n",
    "\n",
    "# Definir os valores de correlação desejados\n",
    "valores_correlacao = [0.4, 0.5, 0.6]\n",
    "\n",
    "# Criar um escritor Excel\n",
    "writer = pd.ExcelWriter('resultados_filtradosCTL.xlsx', engine='xlsxwriter')\n",
    "\n",
    "# Loop para processar cada valor de correlação desejado\n",
    "for valor_correlacao in valores_correlacao:\n",
    "    # Substituir as vírgulas por pontos na coluna 'pearson_corr' para garantir que Python interprete corretamente os valores numéricos\n",
    "    for sheet_name, df in df1_resultados.items():\n",
    "        df['pearson_corr'] = df['pearson_corr'].astype(str).str.replace(',', '.').astype(float)\n",
    "\n",
    "        # Filtrar os resultados com base na coluna 'pearson_corr'\n",
    "        resultados_filtrados = df[(df['pearson_corr'] >= valor_correlacao) | (df['pearson_corr'] <= -valor_correlacao)]\n",
    "\n",
    "        # Salvar os resultados filtrados em uma aba (sheet) diferente\n",
    "        resultados_filtrados.to_excel(writer, sheet_name=f'{sheet_name}_filtrados_{str(valor_correlacao).replace(\".\", \"_\")}', index=False)\n",
    "\n",
    "# Fechar o escritor Excel\n",
    "writer.save()"
   ]
  },
  {
   "cell_type": "code",
   "execution_count": null,
   "id": "ab5c7421",
   "metadata": {},
   "outputs": [],
   "source": []
  },
  {
   "cell_type": "code",
   "execution_count": null,
   "id": "b35ec91a",
   "metadata": {},
   "outputs": [],
   "source": []
  }
 ],
 "metadata": {
  "kernelspec": {
   "display_name": "Python 3 (ipykernel)",
   "language": "python",
   "name": "python3"
  },
  "language_info": {
   "codemirror_mode": {
    "name": "ipython",
    "version": 3
   },
   "file_extension": ".py",
   "mimetype": "text/x-python",
   "name": "python",
   "nbconvert_exporter": "python",
   "pygments_lexer": "ipython3",
   "version": "3.9.13"
  }
 },
 "nbformat": 4,
 "nbformat_minor": 5
}
